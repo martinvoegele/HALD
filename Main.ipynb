{
 "cells": [
  {
   "cell_type": "markdown",
   "metadata": {},
   "source": [
    "#Helix and Lipid Distribution"
   ]
  },
  {
   "cell_type": "markdown",
   "metadata": {},
   "source": [
    "Calculate the tilt angle of a helix in a membrane and the distribution of lipids with respect to its principal axis."
   ]
  },
  {
   "cell_type": "markdown",
   "metadata": {},
   "source": [
    "<img src=\"files/untitled33.png\">"
   ]
  },
  {
   "cell_type": "markdown",
   "metadata": {},
   "source": [
    "<img src=\"files/untitled44.png\">"
   ]
  },
  {
   "cell_type": "markdown",
   "metadata": {},
   "source": [
    "##Import packages"
   ]
  },
  {
   "cell_type": "code",
   "execution_count": 1,
   "metadata": {
    "collapsed": false
   },
   "outputs": [
    {
     "name": "stdout",
     "output_type": "stream",
     "text": [
      "Populating the interactive namespace from numpy and matplotlib\n"
     ]
    }
   ],
   "source": [
    "import numpy as np\n",
    "import scipy as sp\n",
    "import matplotlib.pyplot as plt\n",
    "import MDAnalysis as mda\n",
    "import MDAnalysis.analysis.helanal\n",
    "import geometry\n",
    "import lipidsCenters\n",
    "\n",
    "%matplotlib inline\n",
    "%pylab inline"
   ]
  },
  {
   "cell_type": "markdown",
   "metadata": {},
   "source": [
    "##Load the trajectories"
   ]
  },
  {
   "cell_type": "code",
   "execution_count": 2,
   "metadata": {
    "collapsed": false
   },
   "outputs": [],
   "source": [
    "#tpr_file = 'ruyin_helix/system2_minim.tpr'\n",
    "#gro_file = 'ruyin_helix/system2_minim.gro'\n",
    "#u = mda.Universe(tpr_file,gro_file)\n",
    "gro_file = 'Band3_traj/band3.gro'\n",
    "xtc_file = 'Band3_traj/band3.xtc'\n",
    "u = mda.Universe(gro_file,xtc_file)"
   ]
  },
  {
   "cell_type": "markdown",
   "metadata": {},
   "source": [
    "##Calculate tilt angles and distances"
   ]
  },
  {
   "cell_type": "code",
   "execution_count": 6,
   "metadata": {
    "collapsed": false
   },
   "outputs": [],
   "source": [
    "rlist = []\n",
    "philist = []\n",
    "\n",
    "for ts in u.trajectory:\n",
    "    \n",
    "    # Select the C_alpha atoms in the trajectory (assumes there is only one helix)\n",
    "    calpha = u.select_atoms('name CA')\n",
    "    \n",
    "    # Calculate the principal axis \n",
    "    princ = calpha.principal_axes()\n",
    "\n",
    "    # Calculate the tilt angle and append it to the list\n",
    "    philist.append(geometry.tilt(calpha))\n",
    "    \n",
    "    # Center of mass of the helix\n",
    "    com_calpha = calpha.center_of_mass()\n",
    "    \n",
    "    # COM of lipids\n",
    "    com_lipids, com_heads, com_tails = lipidsCenters.membrane_mass_centers(u,'POPC','C2')\n",
    "    \n",
    "    # Distance of the COM to the principal axis\n",
    "    for point in com_tails:\n",
    "        r = geometry.dist_point_line(point,com_calpha,princ[0])\n",
    "        rlist.append(r)\n"
   ]
  },
  {
   "cell_type": "markdown",
   "metadata": {},
   "source": [
    "##Show the distributions"
   ]
  },
  {
   "cell_type": "code",
   "execution_count": 7,
   "metadata": {
    "collapsed": false
   },
   "outputs": [
    {
     "data": {
      "image/png": "[encoded data removed]",
      "text/plain": [
       "<matplotlib.figure.Figure at 0x7f3017df1750>"
      ]
     },
     "metadata": {},
     "output_type": "display_data"
    }
   ],
   "source": [
    "plt.hist(rlist)\n",
    "plt.show()"
   ]
  },
  {
   "cell_type": "code",
   "execution_count": 8,
   "metadata": {
    "collapsed": false
   },
   "outputs": [
    {
     "data": {
      "image/png": "[encoded data removed]",
      "text/plain": [
       "<matplotlib.figure.Figure at 0x7f3017d42510>"
      ]
     },
     "metadata": {},
     "output_type": "display_data"
    }
   ],
   "source": [
    "plt.plot(philist)\n",
    "plt.show()"
   ]
  },
  {
   "cell_type": "code",
   "execution_count": 5,
   "metadata": {
    "collapsed": false
   },
   "outputs": [
    {
     "data": {
      "image/png": "[encoded data removed]",
      "text/plain": [
       "<matplotlib.figure.Figure at 0x7f3017e00f10>"
      ]
     },
     "metadata": {},
     "output_type": "display_data"
    }
   ],
   "source": [
    "plt.hist(philist)\n",
    "plt.show()"
   ]
  },
  {
   "cell_type": "code",
   "execution_count": null,
   "metadata": {
    "collapsed": true
   },
   "outputs": [],
   "source": []
  }
 ],
 "metadata": {
  "kernelspec": {
   "display_name": "Python 2",
   "language": "python",
   "name": "python2"
  },
  "language_info": {
   "codemirror_mode": {
    "name": "ipython",
    "version": 2
   },
   "file_extension": ".py",
   "mimetype": "text/x-python",
   "name": "python",
   "nbconvert_exporter": "python",
   "pygments_lexer": "ipython2",
   "version": "2.7.10"
  }
 },
 "nbformat": 4,
 "nbformat_minor": 0
}
