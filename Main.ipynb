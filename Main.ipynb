{
 "cells": [
  {
   "cell_type": "code",
   "execution_count": 2,
   "metadata": {
    "collapsed": true
   },
   "outputs": [],
   "source": [
    "import numpy as np\n",
    "import scipy as sp\n",
    "import MDAnalysis as mda"
   ]
  },
  {
   "cell_type": "code",
   "execution_count": 3,
   "metadata": {
    "collapsed": false
   },
   "outputs": [],
   "source": [
    "tpr_file = 'ruyin_helix/system2_minim.tpr'\n",
    "gro_file = 'ruyin_helix/system2_minim.gro'\n",
    "u = mda.Universe(gro_file)"
   ]
  },
  {
   "cell_type": "code",
   "execution_count": 6,
   "metadata": {
    "collapsed": false
   },
   "outputs": [],
   "source": [
    "protein = u.select_atoms('protein')"
   ]
  },
  {
   "cell_type": "code",
   "execution_count": 10,
   "metadata": {
    "collapsed": false
   },
   "outputs": [
    {
     "data": {
      "text/plain": [
       "array([[-0.0321192 , -0.41489436, -0.9093025 ],\n",
       "       [-0.98865125,  0.14677104, -0.0320463 ],\n",
       "       [-0.1467551 , -0.89795375,  0.41489999]])"
      ]
     },
     "execution_count": 10,
     "metadata": {},
     "output_type": "execute_result"
    }
   ],
   "source": [
    "protein.principal_axes()"
   ]
  },
  {
   "cell_type": "code",
   "execution_count": 11,
   "metadata": {
    "collapsed": true
   },
   "outputs": [],
   "source": [
    "calpha = u.select_atoms('name CA')"
   ]
  },
  {
   "cell_type": "code",
   "execution_count": 14,
   "metadata": {
    "collapsed": false
   },
   "outputs": [
    {
     "data": {
      "text/plain": [
       "array([[ 34.69000244,  44.01000214,  62.61000061],\n",
       "       [ 36.22000122,  41.05999756,  60.65000153],\n",
       "       [ 32.50999832,  40.41999817,  59.85000229],\n",
       "       [ 32.54000092,  43.63999939,  57.77999878],\n",
       "       [ 35.95999908,  42.56000137,  56.42000198],\n",
       "       [ 34.22999954,  39.40000153,  55.13000107],\n",
       "       [ 31.21000099,  41.43000031,  53.88999939],\n",
       "       [ 33.13999939,  43.69999695,  51.43000031],\n",
       "       [ 35.11000061,  40.65000153,  50.21999741],\n",
       "       [ 31.84000015,  38.81999969,  49.77000427],\n",
       "       [ 30.52000046,  41.79000092,  47.75      ],\n",
       "       [ 33.46999741,  41.69000244,  45.31999969],\n",
       "       [ 34.        ,  37.93999863,  45.17000198],\n",
       "       [ 30.29000092,  37.15999985,  44.51000214],\n",
       "       [ 30.62000084,  39.36000061,  41.39999771],\n",
       "       [ 33.75999832,  37.29999924,  40.3599968 ],\n",
       "       [ 31.83000183,  33.87000275,  40.79999924],\n",
       "       [ 28.71999931,  34.92000198,  38.77000046],\n",
       "       [ 31.05999947,  36.54999924,  36.05999756],\n",
       "       [ 33.31999969,  33.44000244,  36.02999878],\n",
       "       [ 30.45000076,  30.88999939,  35.66999817],\n",
       "       [ 28.68000031,  32.84000015,  32.75      ],\n",
       "       [ 32.06999969,  33.54999924,  30.98999977],\n",
       "       [ 33.13999939,  30.02000046,  31.21999931],\n",
       "       [ 29.53000069,  28.80000114,  30.52000046],\n",
       "       [ 29.86999893,  31.12999916,  27.43999863],\n",
       "       [ 33.55999756,  29.20000076,  26.40999985],\n",
       "       [ 31.3599987 ,  25.52000046,  26.54999924],\n",
       "       [ 28.02999878,  26.90000153,  24.51999855],\n",
       "       [ 30.61000061,  28.54999924,  21.76000214],\n",
       "       [ 32.80999756,  25.22000122,  21.84000015],\n",
       "       [ 29.63999939,  22.93999863,  20.98999977],\n",
       "       [ 27.77000046,  25.5       ,  18.54999924],\n",
       "       [ 30.85000038,  26.02000046,  16.06999969],\n",
       "       [ 32.92000198,  23.25      ,  14.37000084],\n",
       "       [ 35.88000107,  25.65999985,  14.39000034],\n",
       "       [ 35.72999954,  25.58000183,  18.22999954],\n",
       "       [ 35.20000076,  21.71999931,  18.20000076],\n",
       "       [ 38.88999939,  21.64999962,  17.51000023]], dtype=float32)"
      ]
     },
     "execution_count": 14,
     "metadata": {},
     "output_type": "execute_result"
    }
   ],
   "source": [
    "calpha.positions"
   ]
  },
  {
   "cell_type": "code",
   "execution_count": 13,
   "metadata": {
    "collapsed": false
   },
   "outputs": [
    {
     "data": {
      "text/plain": [
       "[<Atom 5: CA of type C of resname MET, resid 2 and segid SYSTEM>,\n",
       " <Atom 30: CA of type C of resname PRO, resid 3 and segid SYSTEM>,\n",
       " <Atom 36: CA of type C of resname ILE, resid 4 and segid SYSTEM>,\n",
       " <Atom 55: CA of type C of resname MET, resid 5 and segid SYSTEM>,\n",
       " <Atom 72: CA of type C of resname GLY, resid 6 and segid SYSTEM>,\n",
       " <Atom 79: CA of type C of resname SER, resid 7 and segid SYSTEM>,\n",
       " <Atom 90: CA of type C of resname SER, resid 8 and segid SYSTEM>,\n",
       " <Atom 101: CA of type C of resname VAL, resid 9 and segid SYSTEM>,\n",
       " <Atom 117: CA of type C of resname TYR, resid 10 and segid SYSTEM>,\n",
       " <Atom 138: CA of type C of resname ILE, resid 11 and segid SYSTEM>,\n",
       " <Atom 157: CA of type C of resname THR, resid 12 and segid SYSTEM>,\n",
       " <Atom 171: CA of type C of resname VAL, resid 13 and segid SYSTEM>,\n",
       " <Atom 187: CA of type C of resname GLU, resid 14 and segid SYSTEM>,\n",
       " <Atom 202: CA of type C of resname LEU, resid 15 and segid SYSTEM>,\n",
       " <Atom 221: CA of type C of resname ALA, resid 16 and segid SYSTEM>,\n",
       " <Atom 231: CA of type C of resname ILE, resid 17 and segid SYSTEM>,\n",
       " <Atom 250: CA of type C of resname ALA, resid 18 and segid SYSTEM>,\n",
       " <Atom 260: CA of type C of resname VAL, resid 19 and segid SYSTEM>,\n",
       " <Atom 276: CA of type C of resname LEU, resid 20 and segid SYSTEM>,\n",
       " <Atom 295: CA of type C of resname ALA, resid 21 and segid SYSTEM>,\n",
       " <Atom 305: CA of type C of resname ILE, resid 22 and segid SYSTEM>,\n",
       " <Atom 324: CA of type C of resname LEU, resid 23 and segid SYSTEM>,\n",
       " <Atom 343: CA of type C of resname GLY, resid 24 and segid SYSTEM>,\n",
       " <Atom 350: CA of type C of resname ASN, resid 25 and segid SYSTEM>,\n",
       " <Atom 364: CA of type C of resname VAL, resid 26 and segid SYSTEM>,\n",
       " <Atom 380: CA of type C of resname LEU, resid 27 and segid SYSTEM>,\n",
       " <Atom 399: CA of type C of resname VAL, resid 28 and segid SYSTEM>,\n",
       " <Atom 415: CA of type C of resname CYS, resid 29 and segid SYSTEM>,\n",
       " <Atom 426: CA of type C of resname TRP, resid 30 and segid SYSTEM>,\n",
       " <Atom 450: CA of type C of resname ALA, resid 31 and segid SYSTEM>,\n",
       " <Atom 460: CA of type C of resname VAL, resid 32 and segid SYSTEM>,\n",
       " <Atom 476: CA of type C of resname TRP, resid 33 and segid SYSTEM>,\n",
       " <Atom 500: CA of type C of resname LEU, resid 34 and segid SYSTEM>,\n",
       " <Atom 519: CA of type C of resname ASN, resid 35 and segid SYSTEM>,\n",
       " <Atom 533: CA of type C of resname SER, resid 36 and segid SYSTEM>,\n",
       " <Atom 544: CA of type C of resname ASN, resid 37 and segid SYSTEM>,\n",
       " <Atom 558: CA of type C of resname LEU, resid 38 and segid SYSTEM>,\n",
       " <Atom 577: CA of type C of resname GLN, resid 39 and segid SYSTEM>,\n",
       " <Atom 594: CA of type C of resname ASN, resid 40 and segid SYSTEM>]"
      ]
     },
     "execution_count": 13,
     "metadata": {},
     "output_type": "execute_result"
    }
   ],
   "source": [
    "list(calpha)"
   ]
  },
  {
   "cell_type": "code",
   "execution_count": null,
   "metadata": {
    "collapsed": true
   },
   "outputs": [],
   "source": [
    " "
   ]
  }
 ],
 "metadata": {
  "kernelspec": {
   "display_name": "Python 2",
   "language": "python",
   "name": "python2"
  },
  "language_info": {
   "codemirror_mode": {
    "name": "ipython",
    "version": 2
   },
   "file_extension": ".py",
   "mimetype": "text/x-python",
   "name": "python",
   "nbconvert_exporter": "python",
   "pygments_lexer": "ipython2",
   "version": "2.7.10"
  }
 },
 "nbformat": 4,
 "nbformat_minor": 0
}
