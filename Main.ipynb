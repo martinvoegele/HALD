{
 "cells": [
  {
   "cell_type": "code",
   "execution_count": 11,
   "metadata": {
    "collapsed": false
   },
   "outputs": [],
   "source": [
    "import numpy as np\n",
    "import scipy as sp\n",
    "import matplotlib.pyplot as plt\n",
    "import MDAnalysis as mda\n",
    "import MDAnalysis.analysis.helanal\n",
    "import geometry\n",
    "import lipidsCenters"
   ]
  },
  {
   "cell_type": "code",
   "execution_count": 2,
   "metadata": {
    "collapsed": false
   },
   "outputs": [],
   "source": [
    "tpr_file = 'ruyin_helix/system2_minim.tpr'\n",
    "gro_file = 'ruyin_helix/system2_minim.gro'\n",
    "xtc_File = 'Band3_traj/band3.xtc'\n",
    "u = mda.Universe(gro_file)"
   ]
  },
  {
   "cell_type": "code",
   "execution_count": 6,
   "metadata": {
    "collapsed": false
   },
   "outputs": [],
   "source": [
    "protein = u.select_atoms('protein')"
   ]
  },
  {
   "cell_type": "code",
   "execution_count": 10,
   "metadata": {
    "collapsed": false
   },
   "outputs": [
    {
     "data": {
      "text/plain": [
       "array([[-0.0321192 , -0.41489436, -0.9093025 ],\n",
       "       [-0.98865125,  0.14677104, -0.0320463 ],\n",
       "       [-0.1467551 , -0.89795375,  0.41489999]])"
      ]
     },
     "execution_count": 10,
     "metadata": {},
     "output_type": "execute_result"
    }
   ],
   "source": [
    "protein.principal_axes()"
   ]
  },
  {
   "cell_type": "code",
   "execution_count": 11,
   "metadata": {
    "collapsed": true
   },
   "outputs": [],
   "source": [
    "calpha = u.select_atoms('name CA')"
   ]
  },
  {
   "cell_type": "code",
   "execution_count": 26,
   "metadata": {
    "collapsed": false
   },
   "outputs": [
    {
     "name": "stdout",
     "output_type": "stream",
     "text": [
      "[[-0.02233006 -0.42237291 -0.90614706]\n",
      " [-0.93927951  0.31930619 -0.12568834]\n",
      " [-0.34242572 -0.84831874  0.40385635]]\n",
      "0.436712475452\n"
     ]
    }
   ],
   "source": [
    "rlist = []\n",
    "\n",
    "for ts in u.trajectory:\n",
    "    # Select the C_alpha atoms in the trajectory (assumes there is only one helix)\n",
    "    calpha = u.select_atoms('name CA')\n",
    "    # Calculate the principal axis \n",
    "    princ = calpha.principal_axes()\n",
    "    print princ\n",
    "    print geometry.tilt(calpha)\n",
    "    com_calpha = calpha.center_of_mass()\n",
    "    point = np.array([0,0,0])\n",
    "    \n",
    "    com_lipids, com_heads, com_tails = lipidsCenters.membrane_mass_centers(u,'POC','C2')\n",
    "    \n",
    "    for point in com_heads:\n",
    "        r = geometry.dist_point_line(point,com_calpha,princ[0])\n",
    "        rlist.append(r)\n",
    " \n",
    "data = plt.hist(rlist)\n",
    "count = data[0]\n",
    "tics = data[1]\n",
    "\n",
    "rdf = count/(2*3.14*tics[0:-1])\n",
    "\n",
    "\n",
    "plt.plot(tics[0:-1],rdf)\n",
    "\n",
    "plt.show()"
   ]
  },
  {
   "cell_type": "code",
   "execution_count": 15,
   "metadata": {
    "collapsed": false
   },
   "outputs": [
    {
     "ename": "NameError",
     "evalue": "name 'math' is not defined",
     "output_type": "error",
     "traceback": [
      "\u001b[1;31m---------------------------------------------------------------------------\u001b[0m",
      "\u001b[1;31mNameError\u001b[0m                                 Traceback (most recent call last)",
      "\u001b[1;32m<ipython-input-15-9ee7c101b273>\u001b[0m in \u001b[0;36m<module>\u001b[1;34m()\u001b[0m\n\u001b[1;32m----> 1\u001b[1;33m \u001b[0mmath\u001b[0m\u001b[1;33m.\u001b[0m\u001b[0mpi\u001b[0m\u001b[1;33m\u001b[0m\u001b[0m\n\u001b[0m",
      "\u001b[1;31mNameError\u001b[0m: name 'math' is not defined"
     ]
    }
   ],
   "source": [
    "math.pi"
   ]
  },
  {
   "cell_type": "code",
   "execution_count": null,
   "metadata": {
    "collapsed": true
   },
   "outputs": [],
   "source": []
  }
 ],
 "metadata": {
  "kernelspec": {
   "display_name": "Python 2",
   "language": "python",
   "name": "python2"
  },
  "language_info": {
   "codemirror_mode": {
    "name": "ipython",
    "version": 2
   },
   "file_extension": ".py",
   "mimetype": "text/x-python",
   "name": "python",
   "nbconvert_exporter": "python",
   "pygments_lexer": "ipython2",
   "version": "2.7.10"
  }
 },
 "nbformat": 4,
 "nbformat_minor": 0
}
