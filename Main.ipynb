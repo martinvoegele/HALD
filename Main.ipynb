{
 "cells": [
  {
   "cell_type": "code",
   "execution_count": 1,
   "metadata": {
    "collapsed": false
   },
   "outputs": [],
   "source": [
    "import numpy as np\n",
    "import scipy as sp\n",
    "import matplotlib.pyplot as plt\n",
    "import MDAnalysis as mda\n",
    "import MDAnalysis.analysis.helanal\n",
    "import geometry\n",
    "import lipidsCenters"
   ]
  },
  {
   "cell_type": "code",
   "execution_count": 2,
   "metadata": {
    "collapsed": false
   },
   "outputs": [],
   "source": [
    "#tpr_file = 'ruyin_helix/system2_minim.tpr'\n",
    "#gro_file = 'ruyin_helix/system2_minim.gro'\n",
    "gro_file = 'Band3_traj/band3.gro'\n",
    "xtc_file = 'Band3_traj/band3.xtc'\n",
    "u = mda.Universe(gro_file,xtc_file)"
   ]
  },
  {
   "cell_type": "code",
   "execution_count": 3,
   "metadata": {
    "collapsed": false
   },
   "outputs": [],
   "source": [
    "rlist = []\n",
    "philist = []\n",
    "\n",
    "for ts in u.trajectory:\n",
    "    \n",
    "    # Select the C_alpha atoms in the trajectory (assumes there is only one helix)\n",
    "    calpha = u.select_atoms('name CA')\n",
    "    \n",
    "    # Calculate the principal axis \n",
    "    princ = calpha.principal_axes()\n",
    "\n",
    "    # Calculate the tilt angle and append it to the list\n",
    "    philist.append(geometry.tilt(calpha))\n",
    "    \n",
    "    # Center of mass of the helix\n",
    "    com_calpha = calpha.center_of_mass()\n",
    "    \n",
    "    # COM of lipids\n",
    "    com_lipids, com_heads, com_tails = lipidsCenters.membrane_mass_centers(u,'POPC','C2')\n",
    "    \n",
    "    # Distance of the COM to the principal axis\n",
    "    for point in com_heads:\n",
    "        r = geometry.dist_point_line(point,com_calpha,princ[0])\n",
    "        rlist.append(r)\n"
   ]
  },
  {
   "cell_type": "code",
   "execution_count": 4,
   "metadata": {
    "collapsed": false
   },
   "outputs": [],
   "source": [
    "plt.hist(rlist)\n",
    "plt.show()"
   ]
  },
  {
   "cell_type": "code",
   "execution_count": 5,
   "metadata": {
    "collapsed": false
   },
   "outputs": [],
   "source": [
    "plt.hist(philist)\n",
    "plt.show()"
   ]
  },
  {
   "cell_type": "code",
   "execution_count": null,
   "metadata": {
    "collapsed": true
   },
   "outputs": [],
   "source": []
  }
 ],
 "metadata": {
  "kernelspec": {
   "display_name": "Python 2",
   "language": "python",
   "name": "python2"
  },
  "language_info": {
   "codemirror_mode": {
    "name": "ipython",
    "version": 2
   },
   "file_extension": ".py",
   "mimetype": "text/x-python",
   "name": "python",
   "nbconvert_exporter": "python",
   "pygments_lexer": "ipython2",
   "version": "2.7.10"
  }
 },
 "nbformat": 4,
 "nbformat_minor": 0
}
